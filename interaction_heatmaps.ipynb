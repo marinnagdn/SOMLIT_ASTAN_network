{
 "cells": [
  {
   "cell_type": "markdown",
   "metadata": {},
   "source": [
    "## Input Data"
   ]
  },
  {
   "cell_type": "code",
   "execution_count": 1,
   "metadata": {
    "hide_input": false
   },
   "outputs": [],
   "source": [
    "graph_path = \"flsaclr+1.graphml\" #the path of the graph\n",
    "output_path = \"outputs/test.pdf\" #path of your output with the extension.pdf"
   ]
  },
  {
   "cell_type": "markdown",
   "metadata": {},
   "source": [
    "### Taxonomic keywords of interest"
   ]
  },
  {
   "cell_type": "code",
   "execution_count": 2,
   "metadata": {},
   "outputs": [],
   "source": [
    "kw1=\"Rhizaria\"\n",
    "kw2=\"\""
   ]
  },
  {
   "cell_type": "code",
   "execution_count": 3,
   "metadata": {},
   "outputs": [],
   "source": [
    "### Corresponding taxonomic levels\n",
    "#1: Phylum\n",
    "#2: Class\n",
    "#3: Order\n",
    "#4: Family\n",
    "#5: Genus"
   ]
  },
  {
   "cell_type": "code",
   "execution_count": 4,
   "metadata": {},
   "outputs": [],
   "source": [
    "level1 = 1\n",
    "level2 = 1"
   ]
  },
  {
   "cell_type": "markdown",
   "metadata": {},
   "source": [
    "## Computation"
   ]
  },
  {
   "cell_type": "code",
   "execution_count": 5,
   "metadata": {},
   "outputs": [],
   "source": [
    "#%matplotlib notebook\n",
    "import pandas as pd\n",
    "import networkx as nx\n",
    "import matplotlib.pyplot as plt\n",
    "import numpy as np\n",
    "import matplotlib.backends.backend_pdf\n",
    "import re\n",
    "import ast\n",
    "import seaborn as sns\n",
    "from scipy.cluster.hierarchy import dendrogram, linkage\n",
    "from scipy.spatial import distance as ssd"
   ]
  },
  {
   "cell_type": "code",
   "execution_count": 6,
   "metadata": {},
   "outputs": [],
   "source": [
    "def contract_network(G):\n",
    "    cpt_contraction = 1\n",
    "    while cpt_contraction != 0:\n",
    "        dcontracted = dict()\n",
    "        cpt_contraction = 0\n",
    "        for n1,n2,d in G.edges(data=True):\n",
    "            while n1 not in G.nodes():\n",
    "                n1 = dcontracted[n1]\n",
    "            while n2 not in G.nodes():\n",
    "                n2 = dcontracted[n2]\n",
    "            if n1==n2:\n",
    "                continue\n",
    "            d1 = G.nodes(data=True)[n1]\n",
    "            d2 = G.nodes(data=True)[n2]\n",
    "            if d1[\"dataset\"] == d2[\"dataset\"]:\n",
    "                if d1[\"sequence\"] == d2[\"sequence\"]:\n",
    "                    G = nx.contracted_nodes(G, n1, n2, self_loops=False)\n",
    "                    dcontracted[n2] = n1\n",
    "                    cpt_contraction += 1\n",
    "                elif d1[\"taxonomy\"] == d2[\"taxonomy\"]:\n",
    "                    G = nx.contracted_nodes(G, n1, n2, self_loops=False)\n",
    "                    dcontracted[n2] = n1\n",
    "                    cpt_contraction += 1\n",
    "            elif d1[\"taxonomy\"] == d2[\"taxonomy\"]:\n",
    "                G = nx.contracted_nodes(G, n1, n2, self_loops=False)\n",
    "                cpt_contraction += 1\n",
    "                dcontracted[n2] = n1\n",
    "    return(G)\n",
    "\n",
    "def match_interactions(G,kw1,kw2=None):\n",
    "    matches = list()\n",
    "    for n1 in G.nodes:\n",
    "        tax1 = G.nodes[n1][\"taxonomy\"]\n",
    "        if re.findall(kw1,tax1):\n",
    "            if kw2 != None:\n",
    "                connected = [ e[1] for e in G.edges(n1) ]\n",
    "                for n2 in connected:\n",
    "                    tax2 = G.nodes[n2][\"taxonomy\"]\n",
    "                    if re.findall(kw2,tax2):\n",
    "                        matches.append((n1,n2))\n",
    "\n",
    "            else:\n",
    "                matches.extend(list(G.edges(n1)))\n",
    "    G = nx.edge_subgraph(G,matches)\n",
    "    return(G)\n",
    "\n",
    "def proportions_interactions(graphs,level1=1,level2=1,taxonomy=\"lineage\",kw1=None,kw2=None,plot=True):\n",
    "    if kw2==\"\":\n",
    "        kw2=None\n",
    "    df=pd.DataFrame()\n",
    "    taxonomies=dict()\n",
    "    for i in range(0,len(graphs)):\n",
    "        G = graphs[i].copy()\n",
    "        G = match_interactions(G,kw1,kw2)\n",
    "        graphs[i] = G\n",
    "        if G.size() == 0:\n",
    "            print(\"No match\")\n",
    "        interactions = list([sorted([ast.literal_eval(G.nodes[n1][\"lineage\"])[level1],ast.literal_eval(G.nodes[n2][\"lineage\"])[level2]]) for n1,n2,d in G.edges(data=True)])\n",
    "        groups = list(set(sum(interactions,[])))\n",
    "        if 0 in groups:\n",
    "            groups.pop(groups.index(0))\n",
    "        for g in groups:\n",
    "            taxonomies[g] = tax.loc[g,\"taxonomy\"].split(\";\")[-2]\n",
    "\n",
    "    list_df = list()\n",
    "    for i in range(0,len(graphs)):\n",
    "        G = graphs[i]\n",
    "        interactions = list([sorted([ast.literal_eval(G.nodes[n1][\"lineage\"])[level1],ast.literal_eval(G.nodes[n2][\"lineage\"])[level2]]) for n1,n2,d in G.edges(data=True)])\n",
    "        if interactions == ():\n",
    "            return\n",
    "        if kw1 != None and kw2 == None:\n",
    "            pivot = set([ast.literal_eval(d[\"lineage\"])[level1] for n,d in G.nodes(data=True) if kw1 in d[\"taxonomy\"]])\n",
    "            if 0 in pivot:\n",
    "                pivot.remove(0)\n",
    "            df = pd.DataFrame(0,columns=[t.split(\";\")[-2] for t in tax.loc[pivot,\"taxonomy\"].values] ,index=taxonomies.values())\n",
    "            for n1,n2 in interactions:\n",
    "                if n1 in pivot and n2 != 0:\n",
    "                    df.loc[taxonomies[n2],taxonomies[n1]]+=1\n",
    "                elif n2 in pivot and n1 != 0:\n",
    "                    df.loc[taxonomies[n1],taxonomies[n2]]+=1\n",
    "\n",
    "        else:\n",
    "            df = pd.DataFrame(0,columns=taxonomies.values() ,index=taxonomies.values())\n",
    "            for n1,n2 in interactions:\n",
    "                if n1 != 0 and n2 != 0:\n",
    "                    df.loc[taxonomies[n1],taxonomies[n2]]+=1\n",
    "                    df.loc[taxonomies[n2],taxonomies[n1]]+=1\n",
    "        list_df.append(df)\n",
    "\n",
    "\n",
    "    df=list_df[0].copy()\n",
    "    if (kw1==None and kw2==None) or (kw1!=None and kw2!=None):\n",
    "        try:\n",
    "            Z = linkage(ssd.pdist(df), method=\"single\")\n",
    "        except ValueError:\n",
    "            print(\"Empty matrix. Try another taxonomic levels\")\n",
    "            exit()\n",
    "        labels = df.columns\n",
    "        obj = dendrogram(Z,leaf_rotation=90,labels=labels,no_plot=True)\n",
    "        names=obj[\"leaves\"]\n",
    "        names=[list(df.columns)[n] for n in names]\n",
    "    else:\n",
    "        names=taxonomies.values()\n",
    "\n",
    "    for d in range(0,len(list_df)):\n",
    "        if (kw1==None and kw2==None) or (kw1!=None and kw2!=None):\n",
    "            list_df[d] = list_df[d].reindex(columns=names,index=names)\n",
    "        else:\n",
    "            list_df[d] = list_df[d].reindex(index=names)\n",
    "        list_df[d] += 1 #avoid log 0 errors\n",
    "        list_df[d] = np.log10(list_df[d])\n",
    "\n",
    "\n",
    "    maxi = max([max(df.max()) for df in list_df])\n",
    "\n",
    "    for d in range(0,len(list_df)):\n",
    "        list_df[d]/=maxi\n",
    "\n",
    "    for d in range(0,len(list_df)):\n",
    "        if kw1 != None and kw2 == None:\n",
    "            list_df[d] = list_df[d][(list_df[d].T != 0).any()]\n",
    "            fig = plt.figure(figsize=(5,10))\n",
    "            cmap = sns.color_palette(\"cubehelix_r\", 100)\n",
    "            sns.set(font_scale=1)\n",
    "            sns.set_style(\"white\")\n",
    "            sns.heatmap(list_df[d],cbar_kws={\"shrink\": .5},cmap=cmap,vmin = 0, vmax = 1)#,linewidths=0.01,linecolor=\"grey\")\n",
    "            plt.tight_layout()\n",
    "        else:\n",
    "            mask = np.zeros_like(list_df[d], dtype=np.bool)\n",
    "            mask[np.triu_indices_from(mask,k=1)] = True\n",
    "            fig = plt.figure(figsize=(15,15))\n",
    "            cmap = sns.color_palette(\"cubehelix_r\", 100)\n",
    "            sns.set(font_scale=1.3)\n",
    "            sns.set_style(\"white\")\n",
    "            sns.heatmap(list_df[d],mask=mask,cbar_kws={\"shrink\": .5},cmap=cmap,vmin = 0, vmax = 1)#,linewidths=0.01,linecolor=\"grey\")\n",
    "            plt.tight_layout()\n",
    "        pdf.savefig(fig)\n",
    "    pdf.close()"
   ]
  },
  {
   "cell_type": "code",
   "execution_count": 7,
   "metadata": {
    "hide_input": false
   },
   "outputs": [],
   "source": [
    "tax = pd.read_csv(\"useful_tables/tax_slv_ssu_138.txt\",\n",
    "                          sep=\"\\t\",\n",
    "                          header=None,\n",
    "                          index_col=1,\n",
    "                          names = [\"taxonomy\",\"rank\",\"X\",\"Y\"])\n",
    "tax = tax[[\"taxonomy\",\"rank\"]]\n",
    "pdf = matplotlib.backends.backend_pdf.PdfPages(output_path)\n",
    "graph = nx.read_graphml(graph_path)\n",
    "#mgraph = contract_network(graph)"
   ]
  },
  {
   "cell_type": "code",
   "execution_count": 8,
   "metadata": {},
   "outputs": [
    {
     "data": {
      "image/png": "[encoded data removed]",
      "text/plain": [
       "<Figure size 360x720 with 2 Axes>"
      ]
     },
     "metadata": {
      "needs_background": "light"
     },
     "output_type": "display_data"
    }
   ],
   "source": [
    "proportions_interactions([graph],level1=level1,level2=level2,taxonomy=\"lineage\",kw1=kw1,kw2=kw2)"
   ]
  },
  {
   "cell_type": "code",
   "execution_count": null,
   "metadata": {},
   "outputs": [],
   "source": []
  }
 ],
 "metadata": {
  "hide_input": false,
  "kernelspec": {
   "display_name": "Python 3",
   "language": "python",
   "name": "python3"
  },
  "language_info": {
   "codemirror_mode": {
    "name": "ipython",
    "version": 3
   },
   "file_extension": ".py",
   "mimetype": "text/x-python",
   "name": "python",
   "nbconvert_exporter": "python",
   "pygments_lexer": "ipython3",
   "version": "3.6.9"
  }
 },
 "nbformat": 4,
 "nbformat_minor": 2
}
