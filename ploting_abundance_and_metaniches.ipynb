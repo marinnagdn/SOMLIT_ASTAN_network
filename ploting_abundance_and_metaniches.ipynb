{
 "cells": [
  {
   "cell_type": "code",
   "execution_count": 1,
   "metadata": {
    "ExecuteTime": {
     "end_time": "2020-07-01T11:54:53.646053Z",
     "start_time": "2020-07-01T11:54:52.898740Z"
    },
    "hide_input": false
   },
   "outputs": [],
   "source": [
    "#%matplotlib notebook\n",
    "import pandas as pd\n",
    "import networkx as nx\n",
    "import matplotlib.pyplot as plt\n",
    "import numpy as np\n",
    "import matplotlib.patches as mpatches\n",
    "import matplotlib.backends.backend_pdf\n",
    "from Bio import SeqIO\n",
    "import re\n",
    "from IPython.display import display\n",
    "pd.options.display.max_columns = None\n",
    "pd.options.display.max_colwidth = 300"
   ]
  },
  {
   "cell_type": "code",
   "execution_count": null,
   "metadata": {
    "ExecuteTime": {
     "end_time": "2020-07-01T11:54:56.372912Z",
     "start_time": "2020-07-01T11:54:53.647858Z"
    },
    "hide_input": false
   },
   "outputs": [],
   "source": [
    "norm_df = pd.read_csv(\"useful_tables/norm_abundances.tsv\",sep=\"\\t\",index_col=0)\n",
    "df_niches_asv = pd.read_csv(\"useful_tables/ASVs_metavars.tsv\",sep=\"\\t\",index_col = 0)\n",
    "df_niches_seasons = pd.read_csv(\"useful_tables/seasons_metavars.tsv\",sep=\"\\t\",index_col = 0)"
   ]
  },
  {
   "cell_type": "code",
   "execution_count": null,
   "metadata": {
    "ExecuteTime": {
     "end_time": "2020-07-01T11:54:56.379890Z",
     "start_time": "2020-07-01T11:54:56.374781Z"
    },
    "hide_input": false
   },
   "outputs": [],
   "source": [
    "norm_df.index = pd.DatetimeIndex(norm_df.index)\n",
    "header = [\"1_Q2\",\"2_Q2\",\"3_Q2\",\"4_Q2\"]\n",
    "df_niches_asv = df_niches_asv[header]\n",
    "df_niches_asv.columns = [\"1\",\"2\",\"3\",\"4\"]"
   ]
  },
  {
   "cell_type": "markdown",
   "metadata": {},
   "source": [
    "### Input data"
   ]
  },
  {
   "cell_type": "code",
   "execution_count": null,
   "metadata": {
    "hide_input": false
   },
   "outputs": [],
   "source": [
    "graph_path = \"networks/flsaclr+1.graphml\" #the path of the graph\n",
    "fasta_path = \"sequences_mariarita.fasta\" #fasta file. if no just let the \"\" empty\n",
    "excel_path = \"\" #excel file. if no just let the \"\" empty\n",
    "output_path = \"outputs/mariarita_lsa.pdf\" #path of your output with the extension.pd"
   ]
  },
  {
   "cell_type": "code",
   "execution_count": null,
   "metadata": {
    "ExecuteTime": {
     "end_time": "2020-07-01T11:54:56.942389Z",
     "start_time": "2020-07-01T11:54:56.381873Z"
    },
    "hide_input": false
   },
   "outputs": [],
   "source": [
    "if fasta_path != \"\":\n",
    "    drecord = dict()\n",
    "    with open(fasta_path,\"r\") as handle:\n",
    "        for record in SeqIO.parse(handle, \"fasta\"):\n",
    "            drecord[record.id]=str(record.seq)\n",
    "    fasta = pd.DataFrame(drecord.keys())\n",
    "G = nx.read_graphml(\"graph_path)\n",
    "#Excel file with list of nodes/correlations\n",
    "if excel_path != \"\":\n",
    "    req = pd.read_csv(excel_path,sep=\"\\t\",header=None)\n",
    "pdf = matplotlib.backends.backend_pdf.PdfPages(output_path)"
   ]
  },
  {
   "cell_type": "code",
   "execution_count": null,
   "metadata": {
    "ExecuteTime": {
     "end_time": "2020-07-01T11:54:56.970779Z",
     "start_time": "2020-07-01T11:54:56.955331Z"
    },
    "hide_input": true
   },
   "outputs": [],
   "source": [
    "def match_kw_node(G,kw1):\n",
    "    matches = list()\n",
    "    for n,d in G.nodes(data=True):\n",
    "        tax = d[\"taxonomy\"]\n",
    "        if re.findall(kw1,tax):\n",
    "            nodes=[n]\n",
    "            nodes.extend(list(nx.neighbors(G,n)))\n",
    "            matches.append(nodes)\n",
    "    return(matches)\n",
    "\n",
    "def match_kw_edge(G,kw1,kw2):\n",
    "    matches = list()\n",
    "    nodes = G.nodes()\n",
    "    for n1 in nodes:\n",
    "        d1 = G.nodes[n1]\n",
    "        tax1 = d1[\"taxonomy\"]\n",
    "        if re.findall(kw1,tax1):\n",
    "            connected = [ e[1] for e in G.edges(n1)]\n",
    "            for n2 in connected:\n",
    "                tax2 = G.nodes[n2][\"taxonomy\"]\n",
    "                if re.findall(kw2,tax2):\n",
    "                    d2 = G.nodes[n2]\n",
    "                    matches.append([n1,n2])\n",
    "    return(matches)\n",
    "\n",
    "def mycolormap(index=None):\n",
    "    colors = [\"#6D93EE\",\"#E01D22\",\"#FABD28\",\"#96AF00\",\n",
    "    \"#804DFF\",\"#FF7749\",\"#47240F\",\"#4CCDA4\",\"#B60085\",\n",
    "    \"#3B9A3C\",\"#2B5985\",\"#FF429B\",\"#5FFFF8\",\"#20FC86\",\n",
    "    \"#9600A5\",\"#B1E7FF\",\"#80FF00\",\"#6B4C81\",\"#989898\",\n",
    "    \"#0F7C6A\",\"#BB4C71\",'#B4FF9B',\"#EAD788\",\"#FFC6F6\",\n",
    "    \"#FF00C2\",\"#E2A4FF\",\"#FF4A00\",\"#800037\",\"#1F45FF\"]*5\n",
    "    if index == None:\n",
    "        return colors\n",
    "    else:\n",
    "        return(colors[index])\n",
    "\n",
    "def print_metaniches(list_nodes,df_niches_asv,df_niches_seasons,fig=None,ax=None):\n",
    "    \n",
    "    if fig==None:\n",
    "        fig=plt.figure()\n",
    "        ax = fig.add_subplot(1, 1, 1)\n",
    "        \n",
    "    # metaniches representation #\n",
    "    df_niches_asv = df_niches_seasons.append(df_niches_asv.loc[list_nodes])\n",
    "\n",
    "    # Move left y-axis and bottim x-axis to centre, passing through (0,0)\n",
    "    ax.spines['left'].set_position('center')\n",
    "    ax.spines['bottom'].set_position('center')\n",
    "    # Eliminate upper and right axes\n",
    "    ax.spines['right'].set_color('none')\n",
    "    ax.spines['top'].set_color('none')\n",
    "    # Show ticks in the left and lower axes only\n",
    "    ax.xaxis.set_ticks_position('bottom')\n",
    "    ax.yaxis.set_ticks_position('left')\n",
    "\n",
    "    #minimum and maximum\n",
    "    ax.set_xlim(-1, 1)\n",
    "    ax.set_ylim(-1, 1)\n",
    "\n",
    "    #graduation\n",
    "    ax.xaxis.set_ticks(np.arange(-1,1.25,0.5))\n",
    "    ax.yaxis.set_ticks(np.arange(-1,1.25,0.5))\n",
    "\n",
    "    #data\n",
    "    xall = list()\n",
    "    yall = list()\n",
    "    for i in range(0,df_niches_asv.shape[0]):\n",
    "        xall.append([0,-df_niches_asv.at[df_niches_asv.index[i],df_niches_asv.columns[1]],0,df_niches_asv.at[df_niches_asv.index[i],df_niches_asv.columns[3]],0])\n",
    "\n",
    "        yall.append( [df_niches_asv.at[df_niches_asv.index[i],df_niches_asv.columns[0]],0,-df_niches_asv.at[df_niches_asv.index[i],df_niches_asv.columns[2]],0,df_niches_asv.at[df_niches_asv.index[i],df_niches_asv.columns[0]]])\n",
    "\n",
    "    #plot\n",
    "    colors=[\"green\",\"magenta\",\"orange\",\"turquoise\"]\n",
    "    for i in range(0,4):\n",
    "        plt.fill(xall[i],yall[i],color=colors[i],alpha=0.15)\n",
    "\n",
    "    for i in range(0+4,len(xall)):\n",
    "        plt.plot(xall[i],yall[i],'-o',color=mycolormap(i-4))\n",
    "\n",
    "    #legend\n",
    "    legend_dict = { 'Spring' : 'green', 'Summer' : 'magenta', 'Autumn' : 'orange', \"Winter\": \"turquoise\" }\n",
    "    patchList = []\n",
    "    for key in legend_dict:\n",
    "            data_key = mpatches.Patch(color=legend_dict[key], label=key,alpha=0.15)\n",
    "            patchList.append(data_key)\n",
    "    legend1 = plt.legend(handles=patchList)\n",
    "    #ax.add_artist(legend1)\n",
    "    #plt.legend(df_niches_asv.index[4:],loc=\"lower right\")"
   ]
  },
  {
   "cell_type": "code",
   "execution_count": null,
   "metadata": {
    "ExecuteTime": {
     "end_time": "2020-07-01T11:54:57.256521Z",
     "start_time": "2020-07-01T11:54:56.972723Z"
    },
    "hide_input": true
   },
   "outputs": [],
   "source": [
    "if excel_path != \"\":\n",
    "    lnodes=list()\n",
    "    for row in req.values:\n",
    "        nodes=list()\n",
    "        asv1,asv2=row[0],row[1]\n",
    "        if not pd.isna(asv1) and not pd.isna(asv2): #both\n",
    "            if asv1 not in G.nodes and asv2 not in G.nodes: #taxonomy\n",
    "                nodes = match_kw_edge(G,asv1,asv2)\n",
    "                lnodes.extend(nodes)\n",
    "\n",
    "            else:\n",
    "                nodes = [asv1,asv2]\n",
    "                lnodes.append(nodes)\n",
    "\n",
    "        elif not pd.isna(asv1) and pd.isna(asv2): # one\n",
    "            if asv1 not in G.nodes and asv2 not in G.nodes:\n",
    "                nodes = match_kw_node(G,asv1)\n",
    "                lnodes.extend(nodes)\n",
    "\n",
    "            else:\n",
    "                nodes.append(asv1)\n",
    "                nodes.extend(list(nx.neighbors(G,asv1)))\n",
    "                lnodes.append(nodes)"
   ]
  },
  {
   "cell_type": "markdown",
   "metadata": {},
   "source": [
    "### Fasta - Network Matches"
   ]
  },
  {
   "cell_type": "code",
   "execution_count": null,
   "metadata": {
    "hide_input": false
   },
   "outputs": [],
   "source": [
    "matches = pd.DataFrame(columns=[\"label\",\"id fasta\",\"taxonomy\",\"reference\"])\n",
    "\n",
    "if fasta_path != \"\":\n",
    "    lnodes = list()\n",
    "    for row in fasta.values:\n",
    "        nodes=list()\n",
    "        asv1 = row[0]\n",
    "        seq1 = drecord[asv1]\n",
    "        for n,d in G.nodes(data=True):\n",
    "            if seq1 in d[\"sequence\"] or d[\"sequence\"] in seq1:\n",
    "                if n not in list(matches[\"label\"]):\n",
    "                    match = pd.Series(data={\"id fasta\":asv1,\"label\":n,\"taxonomy\":d[\"taxonomy\"],\"reference\":d[\"silvareferences\"]})\n",
    "                    matches = matches.append(match,ignore_index=True)\n",
    "                    nodes.append(n)\n",
    "                    nodes.extend(list(nx.neighbors(G,n)))\n",
    "                    lnodes.append(list(set(nodes)))\n",
    "                    \n",
    "\n",
    "matches.style.set_properties(**{'text-align': 'left'})\n",
    "display(matches)"
   ]
  },
  {
   "cell_type": "markdown",
   "metadata": {
    "hide_input": false
   },
   "source": [
    "### Results"
   ]
  },
  {
   "cell_type": "code",
   "execution_count": null,
   "metadata": {
    "hide_input": true
   },
   "outputs": [],
   "source": [
    "lnodes = set(tuple(row) for row in lnodes)\n",
    "lnodes = [list(row) for row in lnodes]\n",
    "for nodes in lnodes:\n",
    "    fig = plt.figure(figsize=(15,15))\n",
    "    ax1 = fig.add_subplot(312)\n",
    "    norm_df[nodes].plot(kind=\"line\",xticks = list(norm_df.index)[::2],rot=90,fontsize=6,ax=ax1,color=mycolormap())\n",
    "    ax2  = fig.add_subplot(313)\n",
    "    print_metaniches(nodes,df_niches_asv,df_niches_seasons,fig,ax2)\n",
    "    ax3 = fig.add_subplot(211)\n",
    "    ax3.axis(\"off\")\n",
    "    text = (\"\\n\").join([n+\" : \"+G.nodes[n][\"taxonomy\"] for n in nodes])\n",
    "    plt.text(0,0.5,text,wrap=True,linespacing = 1.5,fontsize=12)\n",
    "    pdf.savefig(fig)\n",
    "pdf.close()"
   ]
  }
 ],
 "metadata": {
  "hide_input": false,
  "kernelspec": {
   "display_name": "Python 3",
   "language": "python",
   "name": "python3"
  },
  "language_info": {
   "codemirror_mode": {
    "name": "ipython",
    "version": 3
   },
   "file_extension": ".py",
   "mimetype": "text/x-python",
   "name": "python",
   "nbconvert_exporter": "python",
   "pygments_lexer": "ipython3",
   "version": "3.6.9"
  }
 },
 "nbformat": 4,
 "nbformat_minor": 2
}
